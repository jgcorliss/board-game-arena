{
 "cells": [
  {
   "cell_type": "code",
   "execution_count": 1,
   "metadata": {},
   "outputs": [],
   "source": [
    "import numpy as np\n",
    "import pandas as pd"
   ]
  },
  {
   "cell_type": "code",
   "execution_count": 2,
   "metadata": {},
   "outputs": [],
   "source": [
    "def get_sums(roll):\n",
    "    return {roll[i] + roll[j] for i in range(3) for j in range(i + 1, 4)}"
   ]
  },
  {
   "cell_type": "code",
   "execution_count": 3,
   "metadata": {},
   "outputs": [],
   "source": [
    "def prob_continue(sums, climb_nums):\n",
    "    return sums.apply(lambda s: not s.isdisjoint(climb_nums)).mean()"
   ]
  },
  {
   "cell_type": "code",
   "execution_count": 4,
   "metadata": {},
   "outputs": [],
   "source": [
    "sample_size = 100000"
   ]
  },
  {
   "cell_type": "code",
   "execution_count": 5,
   "metadata": {},
   "outputs": [],
   "source": [
    "rng = np.random.default_rng()"
   ]
  },
  {
   "cell_type": "code",
   "execution_count": 6,
   "metadata": {},
   "outputs": [],
   "source": [
    "rolls = pd.DataFrame(\n",
    "    data=rng.integers(low=1, high=7, size=(sample_size, 4)),\n",
    "    columns=[f'die{idx}' for idx in range(1, 5)],\n",
    ")"
   ]
  },
  {
   "cell_type": "code",
   "execution_count": 7,
   "metadata": {},
   "outputs": [],
   "source": [
    "rolls['sums'] = rolls.apply(func=get_sums, axis=1, raw=True)"
   ]
  },
  {
   "cell_type": "code",
   "execution_count": 8,
   "metadata": {},
   "outputs": [
    {
     "data": {
      "text/html": [
       "<div>\n",
       "<style scoped>\n",
       "    .dataframe tbody tr th:only-of-type {\n",
       "        vertical-align: middle;\n",
       "    }\n",
       "\n",
       "    .dataframe tbody tr th {\n",
       "        vertical-align: top;\n",
       "    }\n",
       "\n",
       "    .dataframe thead th {\n",
       "        text-align: right;\n",
       "    }\n",
       "</style>\n",
       "<table border=\"1\" class=\"dataframe\">\n",
       "  <thead>\n",
       "    <tr style=\"text-align: right;\">\n",
       "      <th></th>\n",
       "      <th>die1</th>\n",
       "      <th>die2</th>\n",
       "      <th>die3</th>\n",
       "      <th>die4</th>\n",
       "      <th>sums</th>\n",
       "    </tr>\n",
       "  </thead>\n",
       "  <tbody>\n",
       "    <tr>\n",
       "      <th>32207</th>\n",
       "      <td>6</td>\n",
       "      <td>1</td>\n",
       "      <td>5</td>\n",
       "      <td>6</td>\n",
       "      <td>{11, 12, 6, 7}</td>\n",
       "    </tr>\n",
       "    <tr>\n",
       "      <th>71209</th>\n",
       "      <td>5</td>\n",
       "      <td>5</td>\n",
       "      <td>6</td>\n",
       "      <td>2</td>\n",
       "      <td>{8, 10, 11, 7}</td>\n",
       "    </tr>\n",
       "    <tr>\n",
       "      <th>52326</th>\n",
       "      <td>4</td>\n",
       "      <td>2</td>\n",
       "      <td>5</td>\n",
       "      <td>5</td>\n",
       "      <td>{9, 10, 6, 7}</td>\n",
       "    </tr>\n",
       "    <tr>\n",
       "      <th>52930</th>\n",
       "      <td>5</td>\n",
       "      <td>3</td>\n",
       "      <td>4</td>\n",
       "      <td>6</td>\n",
       "      <td>{7, 8, 9, 10, 11}</td>\n",
       "    </tr>\n",
       "    <tr>\n",
       "      <th>18887</th>\n",
       "      <td>3</td>\n",
       "      <td>5</td>\n",
       "      <td>2</td>\n",
       "      <td>2</td>\n",
       "      <td>{8, 4, 5, 7}</td>\n",
       "    </tr>\n",
       "  </tbody>\n",
       "</table>\n",
       "</div>"
      ],
      "text/plain": [
       "       die1  die2  die3  die4               sums\n",
       "32207     6     1     5     6     {11, 12, 6, 7}\n",
       "71209     5     5     6     2     {8, 10, 11, 7}\n",
       "52326     4     2     5     5      {9, 10, 6, 7}\n",
       "52930     5     3     4     6  {7, 8, 9, 10, 11}\n",
       "18887     3     5     2     2       {8, 4, 5, 7}"
      ]
     },
     "execution_count": 8,
     "metadata": {},
     "output_type": "execute_result"
    }
   ],
   "source": [
    "rolls.sample(5)"
   ]
  },
  {
   "cell_type": "code",
   "execution_count": 31,
   "metadata": {},
   "outputs": [
    {
     "data": {
      "text/plain": [
       "0.83006"
      ]
     },
     "execution_count": 31,
     "metadata": {},
     "output_type": "execute_result"
    }
   ],
   "source": [
    "prob_continue(rolls['sums'], {2, 5, 8})"
   ]
  },
  {
   "cell_type": "markdown",
   "metadata": {},
   "source": [
    "Single column probabilities:"
   ]
  },
  {
   "cell_type": "code",
   "execution_count": 19,
   "metadata": {},
   "outputs": [
    {
     "name": "stdout",
     "output_type": "stream",
     "text": [
      "2\t0.13103\n",
      "3\t0.23441\n",
      "4\t0.35523\n",
      "5\t0.45031\n",
      "6\t0.56085\n",
      "7\t0.6434\n",
      "8\t0.56427\n",
      "9\t0.4473\n",
      "10\t0.35558\n",
      "11\t0.23244\n",
      "12\t0.13128\n"
     ]
    }
   ],
   "source": [
    "for i in range(2, 13):\n",
    "    print(i, '\\t', prob_continue(rolls['sums'], {i}), sep='')"
   ]
  },
  {
   "cell_type": "markdown",
   "metadata": {},
   "source": [
    "Full list of probabilities:"
   ]
  },
  {
   "cell_type": "code",
   "execution_count": 12,
   "metadata": {
    "scrolled": true
   },
   "outputs": [
    {
     "name": "stdout",
     "output_type": "stream",
     "text": [
      "(2, 3, 4)\t0.52055\n",
      "(2, 3, 5)\t0.58631\n",
      "(2, 3, 6)\t0.68334\n",
      "(2, 3, 7)\t0.75186\n",
      "(2, 3, 8)\t0.7579\n",
      "(2, 3, 9)\t0.71239\n",
      "(2, 3, 10)\t0.63436\n",
      "(2, 3, 11)\t0.52584\n",
      "(2, 3, 12)\t0.43871\n",
      "(2, 4, 5)\t0.65958\n",
      "(2, 4, 6)\t0.75816\n",
      "(2, 4, 7)\t0.80611\n",
      "(2, 4, 8)\t0.81616\n",
      "(2, 4, 9)\t0.75444\n",
      "(2, 4, 10)\t0.73754\n",
      "(2, 4, 11)\t0.63237\n",
      "(2, 4, 12)\t0.54944\n",
      "(2, 5, 6)\t0.77041\n",
      "(2, 5, 7)\t0.80999\n",
      "(2, 5, 8)\t0.83006\n",
      "(2, 5, 9)\t0.75936\n",
      "(2, 5, 10)\t0.75603\n",
      "(2, 5, 11)\t0.71332\n",
      "(2, 5, 12)\t0.63562\n",
      "(2, 6, 7)\t0.86402\n",
      "(2, 6, 8)\t0.88437\n",
      "(2, 6, 9)\t0.83137\n",
      "(2, 6, 10)\t0.80982\n",
      "(2, 6, 11)\t0.75508\n",
      "(2, 6, 12)\t0.73794\n",
      "(2, 7, 8)\t0.89209\n",
      "(2, 7, 9)\t0.83457\n",
      "(2, 7, 10)\t0.83217\n",
      "(2, 7, 11)\t0.77754\n",
      "(2, 7, 12)\t0.77969\n",
      "(2, 8, 9)\t0.82382\n",
      "(2, 8, 10)\t0.81645\n",
      "(2, 8, 11)\t0.73835\n",
      "(2, 8, 12)\t0.74027\n",
      "(2, 9, 10)\t0.71069\n",
      "(2, 9, 11)\t0.63641\n",
      "(2, 9, 12)\t0.6345\n",
      "(2, 10, 11)\t0.57812\n",
      "(2, 10, 12)\t0.55088\n",
      "(2, 11, 12)\t0.43771\n",
      "(3, 4, 5)\t0.67163\n",
      "(3, 4, 6)\t0.74213\n",
      "(3, 4, 7)\t0.79051\n",
      "(3, 4, 8)\t0.79767\n",
      "(3, 4, 9)\t0.77786\n",
      "(3, 4, 10)\t0.757\n",
      "(3, 4, 11)\t0.65595\n",
      "(3, 4, 12)\t0.57775\n",
      "(3, 5, 6)\t0.77209\n",
      "(3, 5, 7)\t0.78718\n",
      "(3, 5, 8)\t0.81007\n",
      "(3, 5, 9)\t0.77627\n",
      "(3, 5, 10)\t0.75968\n",
      "(3, 5, 11)\t0.71138\n",
      "(3, 5, 12)\t0.63841\n",
      "(3, 6, 7)\t0.8642\n",
      "(3, 6, 8)\t0.85419\n",
      "(3, 6, 9)\t0.82438\n",
      "(3, 6, 10)\t0.82232\n",
      "(3, 6, 11)\t0.7581\n",
      "(3, 6, 12)\t0.73599\n",
      "(3, 7, 8)\t0.8944\n",
      "(3, 7, 9)\t0.84098\n",
      "(3, 7, 10)\t0.83443\n",
      "(3, 7, 11)\t0.77517\n",
      "(3, 7, 12)\t0.77732\n",
      "(3, 8, 9)\t0.83706\n",
      "(3, 8, 10)\t0.83577\n",
      "(3, 8, 11)\t0.76116\n",
      "(3, 8, 12)\t0.75843\n",
      "(3, 9, 10)\t0.78038\n",
      "(3, 9, 11)\t0.71022\n",
      "(3, 9, 12)\t0.71304\n",
      "(3, 10, 11)\t0.65798\n",
      "(3, 10, 12)\t0.63547\n",
      "(3, 11, 12)\t0.52642\n",
      "(4, 5, 6)\t0.79763\n",
      "(4, 5, 7)\t0.84841\n",
      "(4, 5, 8)\t0.84804\n",
      "(4, 5, 9)\t0.79888\n",
      "(4, 5, 10)\t0.82402\n",
      "(4, 5, 11)\t0.78007\n",
      "(4, 5, 12)\t0.7113\n",
      "(4, 6, 7)\t0.88562\n",
      "(4, 6, 8)\t0.91167\n",
      "(4, 6, 9)\t0.86216\n",
      "(4, 6, 10)\t0.88392\n",
      "(4, 6, 11)\t0.83264\n",
      "(4, 6, 12)\t0.81486\n",
      "(4, 7, 8)\t0.90469\n",
      "(4, 7, 9)\t0.89104\n",
      "(4, 7, 10)\t0.87575\n",
      "(4, 7, 11)\t0.8347\n",
      "(4, 7, 12)\t0.83195\n",
      "(4, 8, 9)\t0.86351\n",
      "(4, 8, 10)\t0.88509\n",
      "(4, 8, 11)\t0.82419\n",
      "(4, 8, 12)\t0.812\n",
      "(4, 9, 10)\t0.82365\n",
      "(4, 9, 11)\t0.75708\n",
      "(4, 9, 12)\t0.75513\n",
      "(4, 10, 11)\t0.75669\n",
      "(4, 10, 12)\t0.73838\n",
      "(4, 11, 12)\t0.63268\n",
      "(5, 6, 7)\t0.88679\n",
      "(5, 6, 8)\t0.89667\n",
      "(5, 6, 9)\t0.86568\n",
      "(5, 6, 10)\t0.86313\n",
      "(5, 6, 11)\t0.83639\n",
      "(5, 6, 12)\t0.82306\n",
      "(5, 7, 8)\t0.91581\n",
      "(5, 7, 9)\t0.85248\n",
      "(5, 7, 10)\t0.89266\n",
      "(5, 7, 11)\t0.8425\n",
      "(5, 7, 12)\t0.83532\n",
      "(5, 8, 9)\t0.86781\n",
      "(5, 8, 10)\t0.86488\n",
      "(5, 8, 11)\t0.82798\n",
      "(5, 8, 12)\t0.83478\n",
      "(5, 9, 10)\t0.79857\n",
      "(5, 9, 11)\t0.77613\n",
      "(5, 9, 12)\t0.75989\n",
      "(5, 10, 11)\t0.77928\n",
      "(5, 10, 12)\t0.75667\n",
      "(5, 11, 12)\t0.71323\n",
      "(6, 7, 8)\t0.92099\n",
      "(6, 7, 9)\t0.91334\n",
      "(6, 7, 10)\t0.90254\n",
      "(6, 7, 11)\t0.89183\n",
      "(6, 7, 12)\t0.89032\n",
      "(6, 8, 9)\t0.89557\n",
      "(6, 8, 10)\t0.91204\n",
      "(6, 8, 11)\t0.85456\n",
      "(6, 8, 12)\t0.88484\n",
      "(6, 9, 10)\t0.84589\n",
      "(6, 9, 11)\t0.8067\n",
      "(6, 9, 12)\t0.82769\n",
      "(6, 10, 11)\t0.79617\n",
      "(6, 10, 12)\t0.81556\n",
      "(6, 11, 12)\t0.7563\n",
      "(7, 8, 9)\t0.88708\n",
      "(7, 8, 10)\t0.88679\n",
      "(7, 8, 11)\t0.86683\n",
      "(7, 8, 12)\t0.86568\n",
      "(7, 9, 10)\t0.84721\n",
      "(7, 9, 11)\t0.78582\n",
      "(7, 9, 12)\t0.80862\n",
      "(7, 10, 11)\t0.79059\n",
      "(7, 10, 12)\t0.80657\n",
      "(7, 11, 12)\t0.75165\n",
      "(8, 9, 10)\t0.79792\n",
      "(8, 9, 11)\t0.77248\n",
      "(8, 9, 12)\t0.77245\n",
      "(8, 10, 11)\t0.74463\n",
      "(8, 10, 12)\t0.76083\n",
      "(8, 11, 12)\t0.68666\n",
      "(9, 10, 11)\t0.67038\n",
      "(9, 10, 12)\t0.65907\n",
      "(9, 11, 12)\t0.5842\n",
      "(10, 11, 12)\t0.52185\n"
     ]
    }
   ],
   "source": [
    "for i in range(2, 11):\n",
    "    for j in range(i + 1, 12):\n",
    "        for k in range(j + 1, 13):\n",
    "            print((i, j, k), '\\t', prob_continue(rolls['sums'], {i, j, k}), sep='')"
   ]
  }
 ],
 "metadata": {
  "kernelspec": {
   "display_name": "Python 3",
   "language": "python",
   "name": "python3"
  },
  "language_info": {
   "codemirror_mode": {
    "name": "ipython",
    "version": 3
   },
   "file_extension": ".py",
   "mimetype": "text/x-python",
   "name": "python",
   "nbconvert_exporter": "python",
   "pygments_lexer": "ipython3",
   "version": "3.6.10"
  }
 },
 "nbformat": 4,
 "nbformat_minor": 4
}
