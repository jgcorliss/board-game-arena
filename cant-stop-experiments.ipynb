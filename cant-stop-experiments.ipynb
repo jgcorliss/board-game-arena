{
 "cells": [
  {
   "cell_type": "code",
   "execution_count": 22,
   "metadata": {},
   "outputs": [],
   "source": [
    "import numpy as np\n",
    "import pandas as pd"
   ]
  },
  {
   "cell_type": "code",
   "execution_count": 23,
   "metadata": {},
   "outputs": [],
   "source": [
    "def get_sums(roll):\n",
    "    return {roll[i] + roll[j] for i in range(3) for j in range(i + 1, 4)}"
   ]
  },
  {
   "cell_type": "code",
   "execution_count": 24,
   "metadata": {},
   "outputs": [],
   "source": [
    "def prob_continue(sums, climb_nums):\n",
    "    return sums.apply(lambda s: not s.isdisjoint(climb_nums)).mean()"
   ]
  },
  {
   "cell_type": "code",
   "execution_count": 25,
   "metadata": {},
   "outputs": [],
   "source": [
    "def col_length(num):\n",
    "    return 13 - 2*abs(num - 7)"
   ]
  },
  {
   "cell_type": "code",
   "execution_count": 26,
   "metadata": {},
   "outputs": [],
   "source": [
    "sample_size = 1000000"
   ]
  },
  {
   "cell_type": "code",
   "execution_count": 27,
   "metadata": {},
   "outputs": [],
   "source": [
    "rng = np.random.default_rng()"
   ]
  },
  {
   "cell_type": "code",
   "execution_count": 28,
   "metadata": {},
   "outputs": [],
   "source": [
    "rolls = pd.DataFrame(\n",
    "    data=rng.integers(low=1, high=7, size=(sample_size, 4)),\n",
    "    columns=[f'die{idx}' for idx in range(1, 5)],\n",
    ")"
   ]
  },
  {
   "cell_type": "code",
   "execution_count": 29,
   "metadata": {},
   "outputs": [],
   "source": [
    "rolls['sums'] = rolls.apply(func=get_sums, axis=1, raw=True)"
   ]
  },
  {
   "cell_type": "code",
   "execution_count": 30,
   "metadata": {
    "scrolled": true
   },
   "outputs": [
    {
     "data": {
      "text/html": [
       "<div>\n",
       "<style scoped>\n",
       "    .dataframe tbody tr th:only-of-type {\n",
       "        vertical-align: middle;\n",
       "    }\n",
       "\n",
       "    .dataframe tbody tr th {\n",
       "        vertical-align: top;\n",
       "    }\n",
       "\n",
       "    .dataframe thead th {\n",
       "        text-align: right;\n",
       "    }\n",
       "</style>\n",
       "<table border=\"1\" class=\"dataframe\">\n",
       "  <thead>\n",
       "    <tr style=\"text-align: right;\">\n",
       "      <th></th>\n",
       "      <th>die1</th>\n",
       "      <th>die2</th>\n",
       "      <th>die3</th>\n",
       "      <th>die4</th>\n",
       "      <th>sums</th>\n",
       "    </tr>\n",
       "  </thead>\n",
       "  <tbody>\n",
       "    <tr>\n",
       "      <th>579776</th>\n",
       "      <td>1</td>\n",
       "      <td>6</td>\n",
       "      <td>3</td>\n",
       "      <td>6</td>\n",
       "      <td>{9, 4, 12, 7}</td>\n",
       "    </tr>\n",
       "    <tr>\n",
       "      <th>703041</th>\n",
       "      <td>5</td>\n",
       "      <td>4</td>\n",
       "      <td>3</td>\n",
       "      <td>1</td>\n",
       "      <td>{4, 5, 6, 7, 8, 9}</td>\n",
       "    </tr>\n",
       "    <tr>\n",
       "      <th>758157</th>\n",
       "      <td>1</td>\n",
       "      <td>1</td>\n",
       "      <td>3</td>\n",
       "      <td>5</td>\n",
       "      <td>{8, 2, 4, 6}</td>\n",
       "    </tr>\n",
       "    <tr>\n",
       "      <th>969087</th>\n",
       "      <td>5</td>\n",
       "      <td>6</td>\n",
       "      <td>2</td>\n",
       "      <td>6</td>\n",
       "      <td>{8, 11, 12, 7}</td>\n",
       "    </tr>\n",
       "    <tr>\n",
       "      <th>750096</th>\n",
       "      <td>2</td>\n",
       "      <td>6</td>\n",
       "      <td>2</td>\n",
       "      <td>2</td>\n",
       "      <td>{8, 4}</td>\n",
       "    </tr>\n",
       "  </tbody>\n",
       "</table>\n",
       "</div>"
      ],
      "text/plain": [
       "        die1  die2  die3  die4                sums\n",
       "579776     1     6     3     6       {9, 4, 12, 7}\n",
       "703041     5     4     3     1  {4, 5, 6, 7, 8, 9}\n",
       "758157     1     1     3     5        {8, 2, 4, 6}\n",
       "969087     5     6     2     6      {8, 11, 12, 7}\n",
       "750096     2     6     2     2              {8, 4}"
      ]
     },
     "execution_count": 30,
     "metadata": {},
     "output_type": "execute_result"
    }
   ],
   "source": [
    "rolls.sample(5)"
   ]
  },
  {
   "cell_type": "code",
   "execution_count": 40,
   "metadata": {},
   "outputs": [
    {
     "data": {
      "text/plain": [
       "0.866839"
      ]
     },
     "execution_count": 40,
     "metadata": {},
     "output_type": "execute_result"
    }
   ],
   "source": [
    "prob_continue(rolls['sums'], {5, 6, 9})"
   ]
  },
  {
   "cell_type": "markdown",
   "metadata": {},
   "source": [
    "Single column probabilities:"
   ]
  },
  {
   "cell_type": "code",
   "execution_count": 33,
   "metadata": {},
   "outputs": [
    {
     "name": "stdout",
     "output_type": "stream",
     "text": [
      "2\t0.132215\t22.69031501720682\n",
      "3\t0.233622\t21.40209398087509\n",
      "4\t0.356173\t19.653370693455145\n",
      "5\t0.447131\t20.128329281575198\n",
      "6\t0.561651\t19.585116024007792\n",
      "7\t0.64337\t20.20610224287735\n",
      "8\t0.561245\t19.59928373526713\n",
      "9\t0.447276\t20.121803986800096\n",
      "10\t0.355654\t19.68205053225888\n",
      "11\t0.233818\t21.38415348690007\n",
      "12\t0.132163\t22.699242601938515\n"
     ]
    }
   ],
   "source": [
    "for i in range(2, 13):\n",
    "    print(i, '\\t', prob_continue(rolls['sums'], {i}), '\\t', col_length(i) / prob_continue(rolls['sums'], {i}), sep='')"
   ]
  },
  {
   "cell_type": "markdown",
   "metadata": {},
   "source": [
    "Full list of probabilities:"
   ]
  },
  {
   "cell_type": "code",
   "execution_count": null,
   "metadata": {
    "scrolled": true
   },
   "outputs": [],
   "source": [
    "for i in range(2, 11):\n",
    "    for j in range(i + 1, 12):\n",
    "        for k in range(j + 1, 13):\n",
    "            print((i, j, k), '\\t', prob_continue(rolls['sums'], {i, j, k}), sep='')"
   ]
  }
 ],
 "metadata": {
  "kernelspec": {
   "display_name": "Python 3",
   "language": "python",
   "name": "python3"
  },
  "language_info": {
   "codemirror_mode": {
    "name": "ipython",
    "version": 3
   },
   "file_extension": ".py",
   "mimetype": "text/x-python",
   "name": "python",
   "nbconvert_exporter": "python",
   "pygments_lexer": "ipython3",
   "version": "3.6.10"
  }
 },
 "nbformat": 4,
 "nbformat_minor": 4
}
